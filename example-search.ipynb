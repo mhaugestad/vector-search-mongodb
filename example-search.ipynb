{
 "cells": [
  {
   "cell_type": "code",
   "execution_count": 1,
   "metadata": {},
   "outputs": [
    {
     "data": {
      "text/plain": [
       "True"
      ]
     },
     "execution_count": 1,
     "metadata": {},
     "output_type": "execute_result"
    }
   ],
   "source": [
    "from pymongo import MongoClient\n",
    "import openai\n",
    "import os\n",
    "from dotenv import load_dotenv\n",
    "load_dotenv()"
   ]
  },
  {
   "cell_type": "code",
   "execution_count": 2,
   "metadata": {},
   "outputs": [],
   "source": [
    "# Set up function to create embeddings\n",
    "# Code snippet copied from https://www.mongodb.com/products/platform/atlas-vector-search\n",
    "openai.api_key = os.getenv(\"OPENAI_API_KEY\")\n",
    "\n",
    "model = \"text-embedding-ada-002\"\n",
    "\n",
    "def generate_embedding(text: str) -> list[float]:\n",
    "\tresp = openai.Embedding.create(\n",
    "\t\tinput=[text], \n",
    "\t\tmodel=model)\n",
    "\treturn resp[\"data\"][0][\"embedding\"] "
   ]
  },
  {
   "cell_type": "code",
   "execution_count": 12,
   "metadata": {},
   "outputs": [],
   "source": [
    "# Set up mongodb connection\n",
    "client = MongoClient(os.environ['MONGODB_URI'])\n",
    "db = client[\"vectordb-test\"]\n",
    "collection = db['sevilla']"
   ]
  },
  {
   "cell_type": "code",
   "execution_count": 30,
   "metadata": {},
   "outputs": [],
   "source": [
    "query = \"Que son los platos mas tipicos de Sevilla?\""
   ]
  },
  {
   "cell_type": "code",
   "execution_count": 31,
   "metadata": {},
   "outputs": [],
   "source": [
    "# https://www.mongodb.com/docs/atlas/atlas-search/knn-beta/\n",
    "\n",
    "results = collection.aggregate([\n",
    "  {\n",
    "    \"$search\": {\n",
    "      \"index\": \"semantic-search\",\n",
    "      \"knnBeta\": {\n",
    "        \"vector\": generate_embedding(query),\n",
    "        \"path\": \"vector\",\n",
    "        \"k\": 5\n",
    "      }\n",
    "    }\n",
    "  }\n",
    "])"
   ]
  },
  {
   "cell_type": "code",
   "execution_count": 32,
   "metadata": {},
   "outputs": [
    {
     "name": "stdout",
     "output_type": "stream",
     "text": [
      "Result 1):\n",
      "La cultura del tapeo va desde la muestra de guisos y platos calientes pasando por fritos, arroces y guisos, hasta la más ligera de las tapas frías, aliños y chacinas, así como las aceitunas sevillanas en sus variedades encurtidas o aliñadas: gordales, manzanillas, machacadas, entre otras.[299]​\n",
      "Entre los dulces típicos tradicionales sevillanos que forman parte de la repostería andaluza, destacan la torta de aceite, las tortas de polvorón, los pestiños, el alfajor, las yemas de San Leandro y el tocino de cielo.\n",
      "--------------------------------------------------\n",
      "\n",
      "\n",
      "Result 2):\n",
      "Al igual que en toda Andalucía, destacan las tapas.\n",
      "--------------------------------------------------\n",
      "\n",
      "\n",
      "Result 3):\n",
      "En los meses invernales es típico de la gastronomía autóctona el cocido andaluz compuesto por garbanzos y pringá (distintos embutidos, carne y tocino), las espinacas con garbanzos, la cola de toro, característica en la época de corridas de toros, el menudo o callos, los huevos a la flamenca, las papas aliñás (patatas cocidas aliñadas con distintos condimentos) y la sopa de picadillo.[298]​\n",
      "Entre las bebidas más típicas destaca el tinto de verano (vino tinto con gaseosa), la cerveza y en la feria, el vino fino de jerez y la manzanilla de Sanlúcar.\n",
      "\n",
      "--------------------------------------------------\n",
      "\n",
      "\n",
      "Result 4):\n",
      "La lista de tapas es muy extensa, ya que en su elaboración intervienen la imaginación y creatividad de cada profesional de la hostelería sevillana.\n",
      "--------------------------------------------------\n",
      "\n",
      "\n",
      "Result 5):\n",
      "Asimismo, es muy común degustar una amplia gama de chacina, principalmente, jamón serrano, así como distintos tipos de queso; aunque no menos común es degustar el ya tradicional serranito, un bocadillo andaluz con orígenes sevillanos.\n",
      "\n",
      "--------------------------------------------------\n",
      "\n",
      "\n"
     ]
    }
   ],
   "source": [
    "for i, document in enumerate(results, start=1):\n",
    "    print(f\"Result {i}):\")\n",
    "    print(document.get('text'))\n",
    "    print(''.join(['-'] * 50))\n",
    "    print(\"\\n\")"
   ]
  }
 ],
 "metadata": {
  "kernelspec": {
   "display_name": "mongodb",
   "language": "python",
   "name": "python3"
  },
  "language_info": {
   "codemirror_mode": {
    "name": "ipython",
    "version": 3
   },
   "file_extension": ".py",
   "mimetype": "text/x-python",
   "name": "python",
   "nbconvert_exporter": "python",
   "pygments_lexer": "ipython3",
   "version": "3.10.13"
  },
  "orig_nbformat": 4
 },
 "nbformat": 4,
 "nbformat_minor": 2
}
